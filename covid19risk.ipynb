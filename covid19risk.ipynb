{
 "cells": [
  {
   "cell_type": "code",
   "execution_count": 8,
   "metadata": {},
   "outputs": [
    {
     "name": "stdout",
     "output_type": "stream",
     "text": [
      "You are in riskly group\n"
     ]
    }
   ],
   "source": [
    "age = input(\"Are you a cigarette addict older than 75 years old? Yes or No :\").lower()\n",
    "chronic = input(\"Do you have a severe chronic disease? Yes or No :\").lower()\n",
    "imnune = input(\"Is your immune system too weak? Yes or No :\").lower()\n",
    "risk = age == \"yes\" or chronic == \"yes\" or imnune == \"yes\"\n",
    "if risk == True:\n",
    "    print(\"You are in riskly group\")\n",
    "else:\n",
    "    print(\"You are not in riskly group\")"
   ]
  }
 ],
 "metadata": {
  "interpreter": {
   "hash": "2097b8de0cf559b99a541878d948e75eb032eda4087ac9e140bfcd448ac40ac5"
  },
  "kernelspec": {
   "display_name": "Python 3.9.7 64-bit (windows store)",
   "language": "python",
   "name": "python3"
  },
  "language_info": {
   "codemirror_mode": {
    "name": "ipython",
    "version": 3
   },
   "file_extension": ".py",
   "mimetype": "text/x-python",
   "name": "python",
   "nbconvert_exporter": "python",
   "pygments_lexer": "ipython3",
   "version": "3.9.7"
  },
  "orig_nbformat": 4
 },
 "nbformat": 4,
 "nbformat_minor": 2
}
