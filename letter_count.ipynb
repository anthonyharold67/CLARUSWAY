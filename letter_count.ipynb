text = input("enter the sentence :")
my_letter_count = {} 
for i in text:
    my_letter_count[i]=text.count(i)
print(my_letter_count)
