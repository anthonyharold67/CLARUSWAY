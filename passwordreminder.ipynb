{
 "cells": [
  {
   "cell_type": "code",
   "execution_count": 17,
   "metadata": {},
   "outputs": [
    {
     "name": "stdout",
     "output_type": "stream",
     "text": [
      "Hello, Anthony! The password is : W@12\n"
     ]
    }
   ],
   "source": [
    "user = (\"anthony\",)\n",
    "password = (\"W@12\",)\n",
    "user1 = input(\"Enter Name: \").lower()\n",
    "\n",
    "if user[0] == user1:\n",
    "    print(\"Hello, {}! The password is : {}.\".format(user1.title(),password[0]))\n",
    "else:\n",
    "    print(\"Hello, {}! See you later.\".format(user1.title()))"
   ]
  },
  {
   "cell_type": "code",
   "execution_count": null,
   "metadata": {},
   "outputs": [],
   "source": []
  }
 ],
 "metadata": {
  "interpreter": {
   "hash": "2097b8de0cf559b99a541878d948e75eb032eda4087ac9e140bfcd448ac40ac5"
  },
  "kernelspec": {
   "display_name": "Python 3.9.7 64-bit (windows store)",
   "language": "python",
   "name": "python3"
  },
  "language_info": {
   "codemirror_mode": {
    "name": "ipython",
    "version": 3
   },
   "file_extension": ".py",
   "mimetype": "text/x-python",
   "name": "python",
   "nbconvert_exporter": "python",
   "pygments_lexer": "ipython3",
   "version": "3.9.7"
  },
  "orig_nbformat": 4
 },
 "nbformat": 4,
 "nbformat_minor": 2
}
