{
 "cells": [
  {
   "cell_type": "code",
   "execution_count": 1,
   "metadata": {},
   "outputs": [
    {
     "name": "stdout",
     "output_type": "stream",
     "text": [
      "sayıyı artırın\n",
      "sayıyı artırın\n",
      "sayıyı artırın\n",
      "sayıyı artırın\n",
      "sayıyı artırın\n",
      "sayıyı artırın\n",
      "sayıyı artırın\n",
      "sayıyı artırın\n",
      "sayıyı artırın\n",
      "Tebrikler buldunuz.\n",
      "58 58\n"
     ]
    }
   ],
   "source": [
    "import random\n",
    "n = random.randint(1,61)\n",
    "while True:\n",
    "    tahmin = int(input(\"lütfen 1 ve 60 arasında tahmin edilen sayıyı girin: \"))\n",
    "    if tahmin>60:\n",
    "        print(\"oyunu iptal ettiniz.\")\n",
    "        break\n",
    "    elif tahmin == 0:\n",
    "        print(\"oyunu iptal ettiniz.\")\n",
    "        break\n",
    "    elif tahmin == n:\n",
    "        print(\"Tebrikler buldunuz.\")\n",
    "        break\n",
    "    elif tahmin <= n:\n",
    "        print(\"sayıyı artırın\")\n",
    "    elif tahmin >= n:\n",
    "        print(\"sayıyı azaltın\")\n",
    "    else:\n",
    "        print(\"Tekrar deneyiniz.\")\n",
    "print(tahmin, n)"
   ]
  }
 ],
 "metadata": {
  "interpreter": {
   "hash": "2097b8de0cf559b99a541878d948e75eb032eda4087ac9e140bfcd448ac40ac5"
  },
  "kernelspec": {
   "display_name": "Python 3.9.7 64-bit (windows store)",
   "language": "python",
   "name": "python3"
  },
  "language_info": {
   "codemirror_mode": {
    "name": "ipython",
    "version": 3
   },
   "file_extension": ".py",
   "mimetype": "text/x-python",
   "name": "python",
   "nbconvert_exporter": "python",
   "pygments_lexer": "ipython3",
   "version": "3.9.7"
  },
  "orig_nbformat": 4
 },
 "nbformat": 4,
 "nbformat_minor": 2
}
