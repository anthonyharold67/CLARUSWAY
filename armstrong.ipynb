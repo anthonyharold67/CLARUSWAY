number = input("enter the positive integer number :")
toplam = 0
if not number.isdigit():
        print("It is an invalid entry. Don't use non-numeric, float, or negative values!")
else:    
    for i in number :
        num = int(i) ** len(number)
        toplam += num
    if toplam == int(number):
        print(number, "is a armstrong number.")
    else:
        print(number,"is not an Armstrong number")
