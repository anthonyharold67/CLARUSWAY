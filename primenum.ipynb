number = int(input("enter the number :"))

if number > 0 and number % 2:
    for i in range(2,number):
        if number % i == 0:
            print(number, "is not a prime number.")
            break
    else:
        print(number, "is a prime number.")
    
elif number == 2:
    print(number, "is a prime number.")
else:
      print(number, "is not a prime number.")
