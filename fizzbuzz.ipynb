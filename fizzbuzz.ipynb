number = int(input("enter the number"))
if number % 3 ==0:
    if number % 5 == 0:
        print("FizzBuzz")
    else:
        print("Fizz")
elif number % 5 ==0:
    if number % 3 == 0:
        print("FizzBuzz")
    else:
        print("Buzz")
else:
    print("the number is not Fizz and not Buzz")
